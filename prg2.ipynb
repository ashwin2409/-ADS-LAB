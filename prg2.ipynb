{
  "nbformat": 4,
  "nbformat_minor": 0,
  "metadata": {
    "colab": {
      "provenance": [],
      "authorship_tag": "ABX9TyPid7LXXlhHG3t6grg4wSRp",
      "include_colab_link": true
    },
    "kernelspec": {
      "name": "python3",
      "display_name": "Python 3"
    },
    "language_info": {
      "name": "python"
    }
  },
  "cells": [
    {
      "cell_type": "markdown",
      "metadata": {
        "id": "view-in-github",
        "colab_type": "text"
      },
      "source": [
        "<a href=\"https://colab.research.google.com/github/ashwin2409/-ADS-LAB/blob/main/prg2.ipynb\" target=\"_parent\"><img src=\"https://colab.research.google.com/assets/colab-badge.svg\" alt=\"Open In Colab\"/></a>"
      ]
    },
    {
      "cell_type": "code",
      "execution_count": null,
      "metadata": {
        "colab": {
          "base_uri": "https://localhost:8080/"
        },
        "id": "ypMPr5CzneBw",
        "outputId": "d37ab354-74d5-4f17-b947-b79e652e2ea4"
      },
      "outputs": [
        {
          "output_type": "stream",
          "name": "stdout",
          "text": [
            "python,world,1999\n",
            "6\n",
            "PYTHON\n",
            "['python,world,1999']\n"
          ]
        }
      ],
      "source": [
        "s1=\"python\"\n",
        "s2=\"world\"\n",
        "s3='%s,%s,%d'%(s1,s2,1999)\n",
        "print(s3)\n",
        "print(len(s1))\n",
        "print(s1.upper())\n",
        "print(s3.split())\n",
        "\n"
      ]
    },
    {
      "cell_type": "code",
      "source": [],
      "metadata": {
        "id": "tcJ2tUrTpWRr"
      },
      "execution_count": null,
      "outputs": []
    }
  ]
}